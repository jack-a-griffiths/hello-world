{
 "cells": [
  {
   "cell_type": "markdown",
   "id": "899e832f",
   "metadata": {},
   "source": [
    "<h1>Data Science Tools and Ecosystem</h1>"
   ]
  },
  {
   "cell_type": "markdown",
   "id": "330e826a",
   "metadata": {},
   "source": [
    "In this notebook, Data Science Tools and Ecosystem are summarized. Very good, very nice."
   ]
  },
  {
   "cell_type": "markdown",
   "id": "a2c95778",
   "metadata": {},
   "source": [
    "***Objectives:***\n",
    "<ul>\n",
    "    <li>List popular programming languages in data science</li>\n",
    "    <li>Create a single column table listing data science tools</li>\n",
    "    <li>Practise basic python arithmetic</li>\n",
    "</ul>"
   ]
  },
  {
   "cell_type": "markdown",
   "id": "04cab880",
   "metadata": {},
   "source": [
    "Some of the popular languages that Data Scientists use are:\n",
    "<ol>\n",
    "  <li>Python</li>\n",
    "  <li>R programming</li>\n",
    "  <li>Julia</li>\n",
    "  <li>C++</li>\n",
    "</ol>"
   ]
  },
  {
   "cell_type": "markdown",
   "id": "b0d12a15",
   "metadata": {},
   "source": [
    "|Data Science Tools|\n",
    "---\n",
    "|GitHub|\n",
    "|RStudio|\n",
    "|Jupyter|\n"
   ]
  },
  {
   "cell_type": "markdown",
   "id": "a865ff91",
   "metadata": {},
   "source": [
    "<h3>Below are a few examples of evaluating arithmetic expressions in Python</h3>"
   ]
  },
  {
   "cell_type": "code",
   "execution_count": 1,
   "id": "adcb8326",
   "metadata": {},
   "outputs": [
    {
     "data": {
      "text/plain": [
       "17"
      ]
     },
     "execution_count": 1,
     "metadata": {},
     "output_type": "execute_result"
    }
   ],
   "source": [
    "#This a simple arithmetic expression to mutiply then add integers\n",
    "(3*4)+5"
   ]
  },
  {
   "cell_type": "code",
   "execution_count": 2,
   "id": "f419a28b",
   "metadata": {},
   "outputs": [
    {
     "data": {
      "text/plain": [
       "3.3333333333333335"
      ]
     },
     "execution_count": 2,
     "metadata": {},
     "output_type": "execute_result"
    }
   ],
   "source": [
    "#This will convert 200 minutes to hours by diving by 60\n",
    "200/60"
   ]
  },
  {
   "cell_type": "markdown",
   "id": "0c5ef7f2",
   "metadata": {},
   "source": [
    "<h2>Author</h2>\n",
    "Jack G."
   ]
  },
  {
   "cell_type": "code",
   "execution_count": null,
   "id": "2365b24c",
   "metadata": {},
   "outputs": [],
   "source": []
  }
 ],
 "metadata": {
  "kernelspec": {
   "display_name": "Python 3 (ipykernel)",
   "language": "python",
   "name": "python3"
  },
  "language_info": {
   "codemirror_mode": {
    "name": "ipython",
    "version": 3
   },
   "file_extension": ".py",
   "mimetype": "text/x-python",
   "name": "python",
   "nbconvert_exporter": "python",
   "pygments_lexer": "ipython3",
   "version": "3.9.13"
  }
 },
 "nbformat": 4,
 "nbformat_minor": 5
}
